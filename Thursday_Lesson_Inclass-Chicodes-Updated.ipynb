{
 "cells": [
  {
   "cell_type": "markdown",
   "metadata": {},
   "source": [
    "# Object-Oriented-Programming (OOP)"
   ]
  },
  {
   "cell_type": "markdown",
   "metadata": {},
   "source": [
    "## Tasks Today:\n",
    "\n",
    "<b>Bonus Topics</b>\n",
    "<br>\n",
    "    \n",
    "\n",
    "1) <b>Creating a Class (Initializing/Declaring)</b> <br>\n",
    "2) <b>Using a Class (Instantiating)</b> <br>\n",
    " &nbsp;&nbsp;&nbsp;&nbsp; a) Creating One Instance <br>\n",
    " &nbsp;&nbsp;&nbsp;&nbsp; b) Creating Multiple Instances <br>\n",
    " &nbsp;&nbsp;&nbsp;&nbsp; c) In-Class Exercise #1 - Create a Class 'Car' and instantiate three different makes of cars <br>\n",
    "3) <b>The \\__init\\__() Method</b> <br>\n",
    " &nbsp;&nbsp;&nbsp;&nbsp; a) The 'self' Attribute <br>\n",
    "4) <b>Class Attributes</b> <br>\n",
    " &nbsp;&nbsp;&nbsp;&nbsp; a) Initializing Attributes <br>\n",
    " &nbsp;&nbsp;&nbsp;&nbsp; b) Setting an Attribute Outside of the \\__init\\__() Method <br>\n",
    " &nbsp;&nbsp;&nbsp;&nbsp; c) Setting Defaults for Attributes <br>\n",
    " &nbsp;&nbsp;&nbsp;&nbsp; d) Accessing Class Attributes <br>\n",
    " &nbsp;&nbsp;&nbsp;&nbsp; e) Changing Class Attributes <br>\n",
    " &nbsp;&nbsp;&nbsp;&nbsp; f) In-Class Exercise #2 - Add a color and wheels attribute to your 'Car' class <br>\n",
    "5) <b>Class Methods</b> <br>\n",
    " &nbsp;&nbsp;&nbsp;&nbsp; a) Creating <br>\n",
    " &nbsp;&nbsp;&nbsp;&nbsp; b) Calling <br>\n",
    " &nbsp;&nbsp;&nbsp;&nbsp; c) Modifying an Attribute's Value Through a Method <br>\n",
    " &nbsp;&nbsp;&nbsp;&nbsp; d) Incrementing an Attribute's Value Through a Method <br>\n",
    " &nbsp;&nbsp;&nbsp;&nbsp; e) In-Class Exercise #3 - Add a method that prints the cars color and wheel number, then call them <br>\n",
    "6) <b>Inheritance</b> <br>\n",
    " &nbsp;&nbsp;&nbsp;&nbsp; a) Syntax for Inheriting from a Parent Class <br>\n",
    " &nbsp;&nbsp;&nbsp;&nbsp; b) The \\__init\\__() Method for a Child Class (super()) <br>\n",
    " &nbsp;&nbsp;&nbsp;&nbsp; c) Defining Attributes and Methods for the Child Class <br>\n",
    " &nbsp;&nbsp;&nbsp;&nbsp; d) Method Overriding <br>\n",
    " &nbsp;&nbsp;&nbsp;&nbsp; e) In-Class Exercise #4 - Create a class 'Ford' that inherits from 'Car' class and initialize it as a Blue Ford Explorer with 4 wheels using the super() method <br>\n",
    "7) <b>Classes as Attributes</b> <br>\n",
    "8) <b>Exercises</b> <br>\n",
    " &nbsp;&nbsp;&nbsp;&nbsp; a) Exercise #1 - Turn the shopping cart program from yesterday into an object-oriented program <br>"
   ]
  },
  {
   "cell_type": "code",
   "execution_count": null,
   "metadata": {},
   "outputs": [],
   "source": [
    "# Shopping Cart Example\n",
    "\n",
    "from IPython.display import clear_output\n",
    "\n",
    "# Creating Global List\n",
    "\n",
    "cart = []\n",
    "\n"
   ]
  },
  {
   "cell_type": "code",
   "execution_count": null,
   "metadata": {},
   "outputs": [],
   "source": [
    "# Circumfrance of a cirle\n"
   ]
  },
  {
   "cell_type": "markdown",
   "metadata": {},
   "source": [
    "## Creating a Class (Initializing/Declaring)\n",
    "<p>When creating a class, function, or even a variable you are initializing that object. Initializing and Declaring occur at the same time in Python, whereas in lower level languages you have to declare an object before initializing it. This is the first step in the process of using a class.</p>"
   ]
  },
  {
   "cell_type": "code",
   "execution_count": null,
   "metadata": {},
   "outputs": [],
   "source": []
  },
  {
   "cell_type": "markdown",
   "metadata": {},
   "source": [
    "## Using a Class (Instantiating)\n",
    "<p>The process of creating a class is called <i>Instantiating</i>. Each time you create a variable of that type of class, it is referred to as an <i>Instance</i> of that class. This is the second step in the process of using a class.</p>"
   ]
  },
  {
   "cell_type": "markdown",
   "metadata": {},
   "source": [
    "##### Creating One Instance"
   ]
  },
  {
   "cell_type": "code",
   "execution_count": null,
   "metadata": {},
   "outputs": [],
   "source": []
  },
  {
   "cell_type": "markdown",
   "metadata": {},
   "source": [
    "##### Creating Multiple Instances"
   ]
  },
  {
   "cell_type": "code",
   "execution_count": null,
   "metadata": {},
   "outputs": [],
   "source": []
  },
  {
   "cell_type": "markdown",
   "metadata": {},
   "source": [
    "##### In-Class Exercise #1 - Create a Class named 'Car' and Instantiate three different makes of cars (Create 3 different instances of the Car class)"
   ]
  },
  {
   "cell_type": "code",
   "execution_count": null,
   "metadata": {},
   "outputs": [],
   "source": [
    "# Add doors, a new color, wheels, and a sunRoof\n"
   ]
  },
  {
   "cell_type": "markdown",
   "metadata": {},
   "source": [
    "## The \\__init\\__() Method <br>\n",
    "<p>This method is used in almost every created class, and called only once upon the creation of the class instance. This method will initialize all variables needed for the object.</p>"
   ]
  },
  {
   "cell_type": "code",
   "execution_count": null,
   "metadata": {},
   "outputs": [],
   "source": []
  },
  {
   "cell_type": "markdown",
   "metadata": {},
   "source": [
    "##### The 'self' Attribute <br>\n",
    "<p>This attribute is required to keep track of specific instance's attributes. Without the self attribute, the program would not know how to reference or keep track of an instance's attributes.</p>"
   ]
  },
  {
   "cell_type": "code",
   "execution_count": null,
   "metadata": {},
   "outputs": [],
   "source": [
    "# see above"
   ]
  },
  {
   "cell_type": "markdown",
   "metadata": {},
   "source": [
    "## Class Attributes <br>\n",
    "<p>While variables are inside of a class, they are referred to as attributes and not variables. When someone says 'attribute' you know they're speaking about a class. Attributes can be initialized through the init method, or outside of it.</p>"
   ]
  },
  {
   "cell_type": "markdown",
   "metadata": {},
   "source": [
    "##### Initializing Attributes"
   ]
  },
  {
   "cell_type": "code",
   "execution_count": null,
   "metadata": {},
   "outputs": [],
   "source": [
    "# see above"
   ]
  },
  {
   "cell_type": "markdown",
   "metadata": {},
   "source": [
    "##### Accessing Class Attributes"
   ]
  },
  {
   "cell_type": "code",
   "execution_count": null,
   "metadata": {
    "scrolled": true
   },
   "outputs": [],
   "source": [
    "# See Above"
   ]
  },
  {
   "cell_type": "markdown",
   "metadata": {},
   "source": [
    "##### Setting Defaults for Attributes"
   ]
  },
  {
   "cell_type": "code",
   "execution_count": 1,
   "metadata": {},
   "outputs": [
    {
     "name": "stdout",
     "output_type": "stream",
     "text": [
      "Honda Wheels 4 and Honda Color Blue\n",
      "Jeep Wheels 8 and Jeep Color Blue\n"
     ]
    }
   ],
   "source": [
    "# See Above\n",
    "\n",
    "class Car():\n",
    "    engine = \"4.7L\"\n",
    "    \n",
    "    # Create the constructor with a dynamic attribute AND a Default attribute\n",
    "    def __init__(self,wheels):\n",
    "        self.wheels = wheels\n",
    "        self.color = \"Blue\" # Default Attribute\n",
    "        \n",
    "honda = Car(4)\n",
    "jeep = Car(8)\n",
    "\n",
    "print(f\"Honda Wheels {honda.wheels} and Honda Color {honda.color}\")\n",
    "print(f\"Jeep Wheels {jeep.wheels} and Jeep Color {jeep.color}\")"
   ]
  },
  {
   "cell_type": "markdown",
   "metadata": {},
   "source": [
    "##### Changing Class Attributes <br>\n",
    "<p>Keep in mind there are global class attributes and then there are attributes only available to each class instance which won't effect other classes.</p>"
   ]
  },
  {
   "cell_type": "code",
   "execution_count": 2,
   "metadata": {},
   "outputs": [
    {
     "name": "stdout",
     "output_type": "stream",
     "text": [
      "White\n"
     ]
    }
   ],
   "source": [
    "jeep.color = \"White\"\n",
    "\n",
    "print(jeep.color)"
   ]
  },
  {
   "cell_type": "markdown",
   "metadata": {},
   "source": [
    "##### In-Class Exercise #2 - Add a doors and seats attribute to your 'Car' class then print out two different instances with different values for doors and seats respectively"
   ]
  },
  {
   "cell_type": "code",
   "execution_count": 14,
   "metadata": {},
   "outputs": [
    {
     "name": "stdout",
     "output_type": "stream",
     "text": [
      "Honda Wheels butterfly and Honda Color chrome striped\n",
      "Jeep Wheels gullwing and Jeep Color chrome striped\n"
     ]
    }
   ],
   "source": [
    "class Car():\n",
    "    speed = \"60mph\"\n",
    "    \n",
    "    def __init__(self,doors,seats):\n",
    "        self.doors = doors\n",
    "        self.seats = seats\n",
    "\n",
    "honda = Car('butterfly', 'leather')\n",
    "\n",
    "jeep = Car('gullwing','leather')\n",
    "\n",
    "\n",
    "print(f\"Honda Wheels {honda.doors} and Honda Color {honda.seats}\")\n",
    "print(f\"Jeep Wheels {jeep.doors} and Jeep Color {jeep.seats}\")\n",
    "        "
   ]
  },
  {
   "cell_type": "markdown",
   "metadata": {},
   "source": [
    "## Class Methods <br>\n",
    "<p>While inside of a class, functions are referred to as 'methods'. If you hear someone mention methods, they're speaking about classes. Methods are essentially functions, but only callable on the instances of a class.</p>"
   ]
  },
  {
   "cell_type": "markdown",
   "metadata": {},
   "source": [
    "##### Creating"
   ]
  },
  {
   "cell_type": "code",
   "execution_count": 128,
   "metadata": {},
   "outputs": [
    {
     "name": "stdout",
     "output_type": "stream",
     "text": [
      "What do you want to do add/remove/show/clear or add\n"
     ]
    },
    {
     "ename": "NameError",
     "evalue": "name 'response' is not defined",
     "output_type": "error",
     "traceback": [
      "\u001b[0;31m---------------------------------------------------------------------------\u001b[0m",
      "\u001b[0;31mNameError\u001b[0m                                 Traceback (most recent call last)",
      "\u001b[0;32m<ipython-input-128-1a35cd1b1592>\u001b[0m in \u001b[0;36m<module>\u001b[0;34m\u001b[0m\n\u001b[1;32m     53\u001b[0m \u001b[0;31m#     wholeFoodsBag.showShoppingBag()\u001b[0m\u001b[0;34m\u001b[0m\u001b[0;34m\u001b[0m\u001b[0;34m\u001b[0m\u001b[0m\n\u001b[1;32m     54\u001b[0m \u001b[0;34m\u001b[0m\u001b[0m\n\u001b[0;32m---> 55\u001b[0;31m \u001b[0mrun\u001b[0m\u001b[0;34m(\u001b[0m\u001b[0;34m)\u001b[0m\u001b[0;34m\u001b[0m\u001b[0;34m\u001b[0m\u001b[0m\n\u001b[0m\u001b[1;32m     56\u001b[0m \u001b[0;34m\u001b[0m\u001b[0m\n",
      "\u001b[0;32m<ipython-input-128-1a35cd1b1592>\u001b[0m in \u001b[0;36mrun\u001b[0;34m()\u001b[0m\n\u001b[1;32m     45\u001b[0m         \u001b[0mrespone\u001b[0m \u001b[0;34m=\u001b[0m \u001b[0minput\u001b[0m\u001b[0;34m(\u001b[0m\u001b[0;34m'What do you want to do add/remove/show/clear or '\u001b[0m\u001b[0;34m)\u001b[0m\u001b[0;34m\u001b[0m\u001b[0;34m\u001b[0m\u001b[0m\n\u001b[1;32m     46\u001b[0m \u001b[0;34m\u001b[0m\u001b[0m\n\u001b[0;32m---> 47\u001b[0;31m         \u001b[0;32mif\u001b[0m \u001b[0mresponse\u001b[0m\u001b[0;34m.\u001b[0m\u001b[0mlower\u001b[0m\u001b[0;34m(\u001b[0m\u001b[0;34m)\u001b[0m \u001b[0;34m==\u001b[0m \u001b[0;34m'quit'\u001b[0m\u001b[0;34m:\u001b[0m\u001b[0;34m\u001b[0m\u001b[0;34m\u001b[0m\u001b[0m\n\u001b[0m\u001b[1;32m     48\u001b[0m             \u001b[0mwholeFoodsBag\u001b[0m\u001b[0;34m.\u001b[0m\u001b[0mshowShoppingBag\u001b[0m\u001b[0;34m(\u001b[0m\u001b[0;34m)\u001b[0m\u001b[0;34m\u001b[0m\u001b[0;34m\u001b[0m\u001b[0m\n\u001b[1;32m     49\u001b[0m             \u001b[0mprint\u001b[0m\u001b[0;34m(\u001b[0m\u001b[0;34m'Thanks for shopping'\u001b[0m\u001b[0;34m)\u001b[0m\u001b[0;34m\u001b[0m\u001b[0;34m\u001b[0m\u001b[0m\n",
      "\u001b[0;31mNameError\u001b[0m: name 'response' is not defined"
     ]
    }
   ],
   "source": [
    "class ShoppingBag():\n",
    "    '''\n",
    "        The ShoppingBag class will have handles, a capacity, \n",
    "        and items to place inside \n",
    "        - handles will be expected to be an integer\n",
    "        - capacity can be a string OR an integer\n",
    "        - items will be a list \n",
    "    '''\n",
    "    def __init__(self,handles,capacity,items):\n",
    "        self.handles = handles \n",
    "        self.capacity = capacity\n",
    "        self.items = items\n",
    "    # Create method that shows the ShoppingBag items\n",
    "    def showShoppingBag(self):\n",
    "        print('You have items in your bag!')\n",
    "        for item in self.items:\n",
    "            print(item)\n",
    "            \n",
    "    # show capacity of shoppingBag\n",
    "    def showCapacity(self):\n",
    "        print(f'Your capacity is {self.capacity}')\n",
    "        \n",
    "    # add to items list with addToShoppingBag method\n",
    "    def addToShoppingBag(self):\n",
    "        products = input('What would you like to add?' )\n",
    "        self.items.append(products)\n",
    "        \n",
    "    #changing the capacity of the ShoppingBag dynamically\n",
    "    def changeBagCapacity(self,capacity):\n",
    "        self.capacity = capacity\n",
    "        \n",
    "    # Increase capacity of the ShoppingBag by 10\n",
    "    def icreaseCapacity(self):\n",
    "        if self.capacity == isinstance(self.capacity,str):\n",
    "            print(\"We can't do that here boss...\")\n",
    "        else:\n",
    "            self.capacity += 10\n",
    "            \n",
    "wholeFoodsBag = ShoppingBag(2,10,[])\n",
    "\n",
    "#Create a function to run the ShoppingBag(whoFoods_bag) methods\n",
    "\n",
    "def run():\n",
    "    while True:\n",
    "        respone = input('What do you want to do add/remove/show/clear or ')\n",
    "        \n",
    "        if response.lower() == 'quit':\n",
    "            wholeFoodsBag.showShoppingBag()\n",
    "            print('Thanks for shopping')\n",
    "        if response.lower() == 'add':\n",
    "            wholeFoodsBag.addToShoppingBag()\n",
    "#     wholeFoodsBag.addToShoppingBag()\n",
    "#     wholeFoodsBag.showShoppingBag()\n",
    "    \n",
    "run()    \n",
    "        "
   ]
  },
  {
   "cell_type": "markdown",
   "metadata": {},
   "source": [
    "##### Calling"
   ]
  },
  {
   "cell_type": "code",
   "execution_count": 20,
   "metadata": {},
   "outputs": [
    {
     "ename": "KeyboardInterrupt",
     "evalue": "Interrupted by user",
     "output_type": "error",
     "traceback": [
      "\u001b[0;31m---------------------------------------------------------------------------\u001b[0m",
      "\u001b[0;31mKeyboardInterrupt\u001b[0m                         Traceback (most recent call last)",
      "\u001b[0;32m<ipython-input-20-692f6f7b3723>\u001b[0m in \u001b[0;36m<module>\u001b[0;34m\u001b[0m\n\u001b[1;32m      1\u001b[0m \u001b[0;31m# See Above\u001b[0m\u001b[0;34m\u001b[0m\u001b[0;34m\u001b[0m\u001b[0;34m\u001b[0m\u001b[0m\n\u001b[0;32m----> 2\u001b[0;31m \u001b[0mwholeFoodsBag\u001b[0m\u001b[0;34m.\u001b[0m\u001b[0maddToShoppingBag\u001b[0m\u001b[0;34m(\u001b[0m\u001b[0;34m)\u001b[0m\u001b[0;34m\u001b[0m\u001b[0;34m\u001b[0m\u001b[0m\n\u001b[0m\u001b[1;32m      3\u001b[0m \u001b[0mwholeFoodsBag\u001b[0m\u001b[0;34m.\u001b[0m\u001b[0mshowShoppingBag\u001b[0m\u001b[0;34m(\u001b[0m\u001b[0;34m)\u001b[0m\u001b[0;34m\u001b[0m\u001b[0;34m\u001b[0m\u001b[0m\n",
      "\u001b[0;32m<ipython-input-19-ecace9283c4b>\u001b[0m in \u001b[0;36maddToShoppingBag\u001b[0;34m(self)\u001b[0m\n\u001b[1;32m     23\u001b[0m     \u001b[0;31m# add to items list with addToShoppingBag method\u001b[0m\u001b[0;34m\u001b[0m\u001b[0;34m\u001b[0m\u001b[0;34m\u001b[0m\u001b[0m\n\u001b[1;32m     24\u001b[0m     \u001b[0;32mdef\u001b[0m \u001b[0maddToShoppingBag\u001b[0m\u001b[0;34m(\u001b[0m\u001b[0mself\u001b[0m\u001b[0;34m)\u001b[0m\u001b[0;34m:\u001b[0m\u001b[0;34m\u001b[0m\u001b[0;34m\u001b[0m\u001b[0m\n\u001b[0;32m---> 25\u001b[0;31m         \u001b[0mproducts\u001b[0m \u001b[0;34m=\u001b[0m \u001b[0minput\u001b[0m\u001b[0;34m(\u001b[0m\u001b[0;34m'What would you like to add?'\u001b[0m \u001b[0;34m)\u001b[0m\u001b[0;34m\u001b[0m\u001b[0;34m\u001b[0m\u001b[0m\n\u001b[0m\u001b[1;32m     26\u001b[0m         \u001b[0mself\u001b[0m\u001b[0;34m.\u001b[0m\u001b[0mitems\u001b[0m\u001b[0;34m.\u001b[0m\u001b[0mappend\u001b[0m\u001b[0;34m(\u001b[0m\u001b[0mproducts\u001b[0m\u001b[0;34m)\u001b[0m\u001b[0;34m\u001b[0m\u001b[0;34m\u001b[0m\u001b[0m\n\u001b[1;32m     27\u001b[0m \u001b[0;34m\u001b[0m\u001b[0m\n",
      "\u001b[0;32m~/opt/anaconda3/lib/python3.8/site-packages/ipykernel/kernelbase.py\u001b[0m in \u001b[0;36mraw_input\u001b[0;34m(self, prompt)\u001b[0m\n\u001b[1;32m    858\u001b[0m                 \u001b[0;34m\"raw_input was called, but this frontend does not support input requests.\"\u001b[0m\u001b[0;34m\u001b[0m\u001b[0;34m\u001b[0m\u001b[0m\n\u001b[1;32m    859\u001b[0m             )\n\u001b[0;32m--> 860\u001b[0;31m         return self._input_request(str(prompt),\n\u001b[0m\u001b[1;32m    861\u001b[0m             \u001b[0mself\u001b[0m\u001b[0;34m.\u001b[0m\u001b[0m_parent_ident\u001b[0m\u001b[0;34m,\u001b[0m\u001b[0;34m\u001b[0m\u001b[0;34m\u001b[0m\u001b[0m\n\u001b[1;32m    862\u001b[0m             \u001b[0mself\u001b[0m\u001b[0;34m.\u001b[0m\u001b[0m_parent_header\u001b[0m\u001b[0;34m,\u001b[0m\u001b[0;34m\u001b[0m\u001b[0;34m\u001b[0m\u001b[0m\n",
      "\u001b[0;32m~/opt/anaconda3/lib/python3.8/site-packages/ipykernel/kernelbase.py\u001b[0m in \u001b[0;36m_input_request\u001b[0;34m(self, prompt, ident, parent, password)\u001b[0m\n\u001b[1;32m    902\u001b[0m             \u001b[0;32mexcept\u001b[0m \u001b[0mKeyboardInterrupt\u001b[0m\u001b[0;34m:\u001b[0m\u001b[0;34m\u001b[0m\u001b[0;34m\u001b[0m\u001b[0m\n\u001b[1;32m    903\u001b[0m                 \u001b[0;31m# re-raise KeyboardInterrupt, to truncate traceback\u001b[0m\u001b[0;34m\u001b[0m\u001b[0;34m\u001b[0m\u001b[0;34m\u001b[0m\u001b[0m\n\u001b[0;32m--> 904\u001b[0;31m                 \u001b[0;32mraise\u001b[0m \u001b[0mKeyboardInterrupt\u001b[0m\u001b[0;34m(\u001b[0m\u001b[0;34m\"Interrupted by user\"\u001b[0m\u001b[0;34m)\u001b[0m \u001b[0;32mfrom\u001b[0m \u001b[0;32mNone\u001b[0m\u001b[0;34m\u001b[0m\u001b[0;34m\u001b[0m\u001b[0m\n\u001b[0m\u001b[1;32m    905\u001b[0m             \u001b[0;32mexcept\u001b[0m \u001b[0mException\u001b[0m \u001b[0;32mas\u001b[0m \u001b[0me\u001b[0m\u001b[0;34m:\u001b[0m\u001b[0;34m\u001b[0m\u001b[0;34m\u001b[0m\u001b[0m\n\u001b[1;32m    906\u001b[0m                 \u001b[0mself\u001b[0m\u001b[0;34m.\u001b[0m\u001b[0mlog\u001b[0m\u001b[0;34m.\u001b[0m\u001b[0mwarning\u001b[0m\u001b[0;34m(\u001b[0m\u001b[0;34m\"Invalid Message:\"\u001b[0m\u001b[0;34m,\u001b[0m \u001b[0mexc_info\u001b[0m\u001b[0;34m=\u001b[0m\u001b[0;32mTrue\u001b[0m\u001b[0;34m)\u001b[0m\u001b[0;34m\u001b[0m\u001b[0;34m\u001b[0m\u001b[0m\n",
      "\u001b[0;31mKeyboardInterrupt\u001b[0m: Interrupted by user"
     ]
    }
   ],
   "source": [
    "# See Above\n",
    "wholeFoodsBag.addToShoppingBag()\n",
    "wholeFoodsBag.showShoppingBag()\n"
   ]
  },
  {
   "cell_type": "markdown",
   "metadata": {},
   "source": [
    "##### Modifying an Attribute's Value Through a Method"
   ]
  },
  {
   "cell_type": "code",
   "execution_count": 21,
   "metadata": {},
   "outputs": [
    {
     "name": "stdout",
     "output_type": "stream",
     "text": [
      "Your capacity is 10\n",
      "Capacity AFTER the change...\n",
      "Your capacity is 40\n"
     ]
    }
   ],
   "source": [
    "# See changeBagCapacity method from above example for ShoppingBag\n",
    "wholeFoodsBag.showCapacity()\n",
    "print('Capacity AFTER the change...')\n",
    "wholeFoodsBag.changeBagCapacity(40)\n",
    "wholeFoodsBag.showCapacity()"
   ]
  },
  {
   "cell_type": "markdown",
   "metadata": {},
   "source": [
    "##### Incrementing an Attribute's Value Through a Method"
   ]
  },
  {
   "cell_type": "code",
   "execution_count": 23,
   "metadata": {},
   "outputs": [
    {
     "name": "stdout",
     "output_type": "stream",
     "text": [
      "Your capacity is 40\n",
      "Your capacity is 60\n"
     ]
    }
   ],
   "source": [
    "# See increaseCapacity method from above example for ShoppingBag\n",
    "wholeFoodsBag.showCapacity()\n",
    "wholeFoodsBag.icreaseCapacity()\n",
    "wholeFoodsBag.icreaseCapacity()\n",
    "wholeFoodsBag.showCapacity()"
   ]
  },
  {
   "cell_type": "markdown",
   "metadata": {},
   "source": [
    "##### In-Class Exercise #3 - Add a method that takes in three parameters of year, doors and seats and prints out a formatted print statement with make, model, year, seats, and doors"
   ]
  },
  {
   "cell_type": "code",
   "execution_count": 24,
   "metadata": {},
   "outputs": [
    {
     "name": "stdout",
     "output_type": "stream",
     "text": [
      "This car is a 2015 Ford Focus with 5 doors and 4 seats.\n",
      "This car is a 2015 Ford Focus with 5 doors and 4 seats.\n"
     ]
    }
   ],
   "source": [
    "# This car is from 2019 and is a Ford Explorer \n",
    "#and has a 4 doors and 5 seats\n",
    "\n",
    "#init make and model\n",
    "class Car():\n",
    "    def __init__(self,make,model):\n",
    "        self.make = make\n",
    "        self.model = model\n",
    "        \n",
    "    def addDetails(self,year,doors,seats):\n",
    "        self.year = year\n",
    "        self.doors = doors\n",
    "        self.seats = seats\n",
    "        print(f\"This car is a {self.year} {self.make} {self.model} with {self.doors} doors and {self.seats} seats.\")\n",
    "        \n",
    "my_car = Car('Ford','Focus')\n",
    "my_car.addDetails(2015,5,4)\n",
    "\n",
    "# Second Example\n",
    "class Car():\n",
    "    def __init__(self,make,model):\n",
    "        self.make = make\n",
    "        self.model = model\n",
    "        \n",
    "    def addDetails(self,year,doors,seats):\n",
    "        print(f\"This car is a {year} {self.make} {self.model} with {doors} doors and {seats} seats.\")\n",
    "        \n",
    "my_car2 = Car('Ford','Focus')\n",
    "my_car2.addDetails(2015,5,4)             "
   ]
  },
  {
   "cell_type": "markdown",
   "metadata": {},
   "source": [
    "## Inheritance <br>\n",
    "<p>You can create a child-parent relationship between two classes by using inheritance. What this allows you to do is have overriding methods, but also inherit traits from the parent class. Think of it as an actual parent and child, the child will inherit the parent's genes, as will the classes in OOP</p>"
   ]
  },
  {
   "cell_type": "markdown",
   "metadata": {},
   "source": [
    "##### Syntax for Inheriting from a Parent Class"
   ]
  },
  {
   "cell_type": "code",
   "execution_count": 179,
   "metadata": {},
   "outputs": [
    {
     "name": "stdout",
     "output_type": "stream",
     "text": [
      "Buster\n",
      "Bark\n",
      "None\n",
      "The Dog has 15mph in speed and 9.8 in acceleration\n",
      "Lassie\n"
     ]
    }
   ],
   "source": [
    "#Creation of parent class\n",
    "class Animal():\n",
    "    acceleration = 9.8\n",
    "    \n",
    "    def __init__(self,name,species,legs=4):\n",
    "        self.name = name\n",
    "        self.species = species\n",
    "        self.leg = legs\n",
    "        \n",
    "    def makeSound(self):\n",
    "        print('Some generic sound')\n",
    "        \n",
    "#Creation of child class\n",
    "class Dog(Animal):\n",
    "    speed = 15\n",
    "    \n",
    "    def printInfo(self):\n",
    "        print(f'The Dog has {self.speed}mph in speed and {self.acceleration} in acceleration')\n",
    "\n",
    "class Dog(Animal):\n",
    "    speed = 15\n",
    "    \n",
    "    def printInfo(self):\n",
    "        print(f\"The Dog has {self.speed}mph in speed and {self.acceleration} in acceleration\")       \n",
    "        \n",
    "class Mut(Dog):\n",
    "    color = 'black & brown'\n",
    "    \n",
    "    # Constructor Overide inside of child inheritance\n",
    "    def __init__(self,name,species,color,legs=4):\n",
    "        Dog.__init__(self,name,species,legs)\n",
    "        self.color = color\n",
    "    \n",
    "    def makeSound(self):\n",
    "        print(\"Bark\")\n",
    "        \n",
    "lassie = Dog(\"Lassie\",\"Dog\")\n",
    "buster = Mut(\"Buster\",\"Mut\",\"black\")\n",
    "print(buster.name)\n",
    "print(buster.makeSound())\n",
    "lassie.printInfo()\n",
    "print(lassie.name)\n",
    "\n",
    "# help(Mut)"
   ]
  },
  {
   "cell_type": "markdown",
   "metadata": {},
   "source": [
    "##### The \\__init\\__() Method for a Child Class - super()"
   ]
  },
  {
   "cell_type": "code",
   "execution_count": 48,
   "metadata": {
    "scrolled": true
   },
   "outputs": [
    {
     "name": "stdout",
     "output_type": "stream",
     "text": [
      "Buster\n",
      "Bark\n",
      "None\n",
      "The Dog has 15mph in speed and 9.8 in acceleration\n",
      "Lassie\n"
     ]
    }
   ],
   "source": [
    "class Dog(Animal):\n",
    "    speed = 15\n",
    "    \n",
    "    def printInfo(self):\n",
    "        print(f\"The Dog has {self.speed}mph in speed and {self.acceleration} in acceleration\")       \n",
    "        \n",
    "class Mut(Dog):\n",
    "    color = 'black & brown'\n",
    "    \n",
    "    # Constructor Overide inside of child inheritance\n",
    "    def __init__(self,name,species,color,legs=4):\n",
    "        super().__init__(name,species,legs)\n",
    "        self.color = color\n",
    "    \n",
    "    def makeSound(self):\n",
    "        print(\"Bark\")\n",
    "        \n",
    "lassie = Dog(\"Lassie\",\"Dog\")\n",
    "buster = Mut(\"Buster\",\"Mut\",\"black\")\n",
    "print(buster.name)\n",
    "print(buster.makeSound())\n",
    "lassie.printInfo()\n",
    "print(lassie.name)\n",
    "\n",
    "# help(Mut)"
   ]
  },
  {
   "cell_type": "markdown",
   "metadata": {},
   "source": [
    "##### Defining Attributes and Methods for the Child Class"
   ]
  },
  {
   "cell_type": "code",
   "execution_count": null,
   "metadata": {},
   "outputs": [],
   "source": [
    "# See Above line"
   ]
  },
  {
   "cell_type": "markdown",
   "metadata": {},
   "source": [
    "##### Method Overriding"
   ]
  },
  {
   "cell_type": "code",
   "execution_count": null,
   "metadata": {},
   "outputs": [],
   "source": [
    "# See Above"
   ]
  },
  {
   "cell_type": "markdown",
   "metadata": {},
   "source": [
    "## Classes as Attributes <br>\n",
    "<p>Classes can also be used as attributes within another class. This is useful in situations where you need to keep variables locally stored, instead of globally stored.</p>"
   ]
  },
  {
   "cell_type": "code",
   "execution_count": 52,
   "metadata": {},
   "outputs": [
    {
     "name": "stdout",
     "output_type": "stream",
     "text": [
      "20\n"
     ]
    }
   ],
   "source": [
    "class Battery():\n",
    "    volts = 7.8\n",
    "    \n",
    "    def __init__(self,cells):\n",
    "        self.cells = cells\n",
    "        \n",
    "class Car():\n",
    "    \n",
    "    def __init__(self,year,make,model,battery):\n",
    "        self.year = year\n",
    "        self.make = make\n",
    "        self.model = model\n",
    "        self.battery = battery\n",
    "        \n",
    "    def printInfo(self):\n",
    "        print(self.year, self.make, self.model, self.battery)\n",
    "        \n",
    "battery = Battery(20)\n",
    "\n",
    "tesla = Car(2019, 'Tesla', 'Model X', battery)\n",
    "\n",
    "print(tesla.battery.cells)"
   ]
  },
  {
   "cell_type": "markdown",
   "metadata": {},
   "source": [
    "# Exercises"
   ]
  },
  {
   "cell_type": "markdown",
   "metadata": {},
   "source": [
    "### Exercise 1 - Turn the shopping cart program from yesterday into an object-oriented program\n",
    "\n",
    "The comments in the cell below are there as a guide for thinking about the problem. However, if you feel a different way is best for you and your own thought process, please do what feels best for you by all means."
   ]
  },
  {
   "cell_type": "code",
   "execution_count": 199,
   "metadata": {},
   "outputs": [
    {
     "name": "stdout",
     "output_type": "stream",
     "text": [
      "What do you want to do add/remove/show or quit?add \n",
      "What do you want to do add/remove/show or quit?oranges\n",
      "What do you want to do add/remove/show or quit?show\n",
      "You have items in your bag!\n",
      "What do you want to do add/remove/show or quit?add\n",
      "What would you like to add? oranges\n",
      "What do you want to do add/remove/show or quit?show\n",
      "You have items in your bag!\n",
      "oranges\n",
      "What do you want to do add/remove/show or quit?remove\n",
      "What do you want to remove? oranges\n",
      "What do you want to do add/remove/show or quit?quit\n",
      "Thanks for shopping!\n"
     ]
    }
   ],
   "source": [
    "# Create a class called cart that retains items and has methods to add, remove, and show\n",
    "# from IPython.display import clear_output\n",
    "# class Cart():\n",
    "class Cart():\n",
    "    '''\n",
    "        The ShoppingBag class will have items to place inside \n",
    "        - items will be a list \n",
    "    '''\n",
    "    def __init__(self,items):\n",
    "          self.items = items\n",
    "\n",
    "    def showCart(self):\n",
    "        print('You have items in your bag!')\n",
    "        for item in self.items:\n",
    "            print(item)  \n",
    "\n",
    "    def addToCart(self):\n",
    "        products = input('What would you like to add? ')\n",
    "        self.items.append(products)\n",
    "               \n",
    "    def removeItem(self):\n",
    "        product = input('What do you want to remove? ')\n",
    "        self.items.remove(product)\n",
    "            \n",
    "wholeFoodsBag = Cart([])\n",
    "\n",
    "def run():\n",
    "    while True:\n",
    "        response = input('What do you want to do add/remove/show or quit?')\n",
    " \n",
    "\n",
    "        if response.lower() == 'add':\n",
    "            wholeFoodsBag.addToCart()\n",
    "        if response.lower() == 'remove':\n",
    "            wholeFoodsBag.removeItem()\n",
    "        if response.lower() == 'show':\n",
    "            wholeFoodsBag.showCart()\n",
    "        if response.lower() == 'quit':\n",
    "            print('Thanks for shopping!')\n",
    "            break\n",
    "\n",
    "            \n",
    "run()       \n",
    "    \n"
   ]
  },
  {
   "cell_type": "code",
   "execution_count": null,
   "metadata": {},
   "outputs": [],
   "source": []
  },
  {
   "cell_type": "markdown",
   "metadata": {},
   "source": [
    "### Exercise 2 - Create a class 'Ford' that inherits from 'Car' class and initialize it as a Blue Ford Explorer with 4 wheels using the super() method, add a method to car which prints 'this is a car' and create an overriding method in class Ford that prints the information on the car"
   ]
  },
  {
   "cell_type": "code",
   "execution_count": 189,
   "metadata": {},
   "outputs": [
    {
     "name": "stdout",
     "output_type": "stream",
     "text": [
      "Blue\n",
      "Explorer\n",
      "4\n",
      "This is a car\n",
      "None\n"
     ]
    }
   ],
   "source": [
    "# Create Parent Class called Car - That will be inherited by \n",
    "# child Class called Ford\n",
    "# Add a method to the Car class that prints \"This is a car\"\n",
    "# Inside of the Child Class initialize the the inherited info \n",
    "# using super()\n",
    "# Override the above method with the information of the Ford Car\n",
    "\n",
    "class Car():\n",
    "    \n",
    "    def __init__(self,name):\n",
    "        self.name = name\n",
    "    \n",
    "    def printText(self):\n",
    "        print(f'This is a car')\n",
    "        \n",
    "\n",
    "class Ford(Car):\n",
    "    \n",
    "    def __init__(self,name,color,wheels,model):\n",
    "        super().__init__(name)\n",
    "        self.color = color\n",
    "        self.wheels = wheels\n",
    "        self.model = model\n",
    "        \n",
    "    def addDetails(self,color,wheels,model):\n",
    "        print(f'This car is {self.color} {self.model} with 4 {self.wheels}.')\n",
    "        \n",
    "caro = Car('text')\n",
    "ford = Ford('text','Blue','4','Explorer')\n",
    "\n",
    "print(ford.color)\n",
    "print(ford.model)\n",
    "print(ford.wheels)\n",
    "print(ford.printText())\n"
   ]
  },
  {
   "cell_type": "code",
   "execution_count": null,
   "metadata": {},
   "outputs": [],
   "source": []
  }
 ],
 "metadata": {
  "kernelspec": {
   "display_name": "Python 3",
   "language": "python",
   "name": "python3"
  },
  "language_info": {
   "codemirror_mode": {
    "name": "ipython",
    "version": 3
   },
   "file_extension": ".py",
   "mimetype": "text/x-python",
   "name": "python",
   "nbconvert_exporter": "python",
   "pygments_lexer": "ipython3",
   "version": "3.8.3"
  }
 },
 "nbformat": 4,
 "nbformat_minor": 2
}
